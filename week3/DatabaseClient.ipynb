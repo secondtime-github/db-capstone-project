{
 "cells": [
  {
   "cell_type": "markdown",
   "id": "4eb5eb5d-d63c-453e-ab2d-278f8df09139",
   "metadata": {},
   "source": [
    "#### Step 1:"
   ]
  },
  {
   "cell_type": "code",
   "execution_count": 1,
   "id": "e6433364-05d3-4d35-ab08-e234ffba8063",
   "metadata": {},
   "outputs": [
    {
     "name": "stdout",
     "output_type": "stream",
     "text": [
      "Requirement already satisfied: mysql-connector-python in /Library/Frameworks/Python.framework/Versions/3.12/lib/python3.12/site-packages (8.2.0)\n",
      "Requirement already satisfied: protobuf<=4.21.12,>=4.21.1 in /Library/Frameworks/Python.framework/Versions/3.12/lib/python3.12/site-packages (from mysql-connector-python) (4.21.12)\n"
     ]
    }
   ],
   "source": [
    "!pip3 install mysql-connector-python"
   ]
  },
  {
   "cell_type": "markdown",
   "id": "22064619-3bb4-48ef-8307-311e499cad81",
   "metadata": {},
   "source": [
    "#### Step 2:"
   ]
  },
  {
   "cell_type": "code",
   "execution_count": 2,
   "id": "813a19ab-2014-49bc-8dac-218d2e0391cf",
   "metadata": {},
   "outputs": [],
   "source": [
    "import mysql.connector as connector"
   ]
  },
  {
   "cell_type": "markdown",
   "id": "edd90193-96ee-4a5c-ab69-f2346e437904",
   "metadata": {},
   "source": [
    "#### Step 3:"
   ]
  },
  {
   "cell_type": "code",
   "execution_count": 16,
   "id": "32d9741b-e4d3-47fa-9499-ff2caaa4b057",
   "metadata": {},
   "outputs": [],
   "source": [
    "try:\n",
    "    connection = connector.connect(user = \"admin\", password = \"a_123456\", db = \"LittleLemonDB\",\n",
    "                              port = 3306, host = \"localhost\")\n",
    "except:\n",
    "    print(\"there was an error connecting to the database\")"
   ]
  },
  {
   "cell_type": "markdown",
   "id": "c15dde0e-386c-4245-86ad-41b523f86b29",
   "metadata": {},
   "source": [
    "#### Task One"
   ]
  },
  {
   "cell_type": "code",
   "execution_count": 21,
   "id": "c94c06bc-c14f-4f22-b5de-d19298bb465f",
   "metadata": {},
   "outputs": [],
   "source": [
    "cursor = connection.cursor()"
   ]
  },
  {
   "cell_type": "markdown",
   "id": "e9ea94e2-f278-45bc-8827-67424b14522e",
   "metadata": {},
   "source": [
    "#### Task Two"
   ]
  },
  {
   "cell_type": "code",
   "execution_count": 23,
   "id": "39f838fd-d6f4-4775-9b73-f8a6f0375277",
   "metadata": {},
   "outputs": [
    {
     "name": "stdout",
     "output_type": "stream",
     "text": [
      "[('Bookings',), ('Customers',), ('Delivery',), ('Employees',), ('MenuItems',), ('Menus',), ('Orders',), ('ordersview',)]\n"
     ]
    }
   ],
   "source": [
    "show_tables_query = \"SHOW tables\" \n",
    "cursor.execute(show_tables_query)\n",
    "\n",
    "results = cursor.fetchall()\n",
    "print(results)"
   ]
  },
  {
   "cell_type": "markdown",
   "id": "93ed9010-5861-4391-baa3-e474b1866a54",
   "metadata": {},
   "source": [
    "#### Task 3 Query with table JOIN"
   ]
  },
  {
   "cell_type": "code",
   "execution_count": 24,
   "id": "a24c1e2c-ab32-4352-8d59-619ad7824a42",
   "metadata": {},
   "outputs": [
    {
     "name": "stdout",
     "output_type": "stream",
     "text": [
      "('Vanessa McCarthy', None, 250)\n",
      "('Marcos Romero', None, 200)\n",
      "('Marcos Romero', None, 150)\n",
      "('Marcos Romero', None, 100)\n"
     ]
    }
   ],
   "source": [
    "select_statement = \"\"\"\n",
    "\n",
    "select fullname, contactnumber, cost\n",
    "from Customers\n",
    "left join Orders on Orders.customerID = Customers.customerID\n",
    "where cost > 60\n",
    "\n",
    "\"\"\"\n",
    "cursor.execute(select_statement)\n",
    "results = cursor.fetchall()\n",
    "for result in results:\n",
    "    print(result)\n"
   ]
  },
  {
   "cell_type": "code",
   "execution_count": null,
   "id": "51a5e84f-389e-435a-b66a-7eddf01fdd1d",
   "metadata": {},
   "outputs": [],
   "source": []
  }
 ],
 "metadata": {
  "kernelspec": {
   "display_name": "Python 3 (ipykernel)",
   "language": "python",
   "name": "python3"
  },
  "language_info": {
   "codemirror_mode": {
    "name": "ipython",
    "version": 3
   },
   "file_extension": ".py",
   "mimetype": "text/x-python",
   "name": "python",
   "nbconvert_exporter": "python",
   "pygments_lexer": "ipython3",
   "version": "3.12.0"
  }
 },
 "nbformat": 4,
 "nbformat_minor": 5
}
